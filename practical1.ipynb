{
 "cells": [
  {
   "cell_type": "markdown",
   "metadata": {},
   "source": [
    "## Practical 1: word2vec\n",
    "<p>Oxford CS - Deep NLP 2017<br>\n",
    "https://www.cs.ox.ac.uk/teaching/courses/2016-2017/dl/</p>\n",
    "<p>[Yannis Assael, Brendan Shillingford, Chris Dyer]</p>"
   ]
  },
  {
   "cell_type": "markdown",
   "metadata": {},
   "source": [
    "This practical is presented as an IPython Notebook, with the code written for recent versions of **Python 3**. The code in this practical will not work with Python 2 unless you modify it. If you are using your own Python installation, ensure you have a setup identical to that described in the installation shell script (which is intended for use with the department lab machines). We will be unable to support installation on personal machines due to time constraints, so please use the lab machines and the setup script if you are unfamiliar with how to install Anaconda.\n",
    "\n",
    "To execute a notebook cell, press `shift-enter`. The return value of the last command will be displayed, if it is not `None`.\n",
    "\n",
    "Potentially useful library documentation, references, and resources:\n",
    "\n",
    "* IPython notebooks: <https://ipython.org/ipython-doc/3/notebook/notebook.html#introduction>\n",
    "* Numpy numerical array library: <https://docs.scipy.org/doc/>\n",
    "* Gensim's word2vec: <https://radimrehurek.com/gensim/models/word2vec.html>\n",
    "* Bokeh interactive plots: <http://bokeh.pydata.org/en/latest/> (we provide plotting code here, but click the thumbnails for more examples to copy-paste)\n",
    "* scikit-learn ML library (aka `sklearn`): <http://scikit-learn.org/stable/documentation.html>\n",
    "* nltk NLP toolkit: <http://www.nltk.org/>\n",
    "* tutorial for processing xml in python using `lxml`: <http://lxml.de/tutorial.html> (we did this for you below, but in case you need it in the future)"
   ]
  },
  {
   "cell_type": "code",
   "execution_count": 1,
   "metadata": {
    "collapsed": false
   },
   "outputs": [],
   "source": [
    "# All codes modified to python 2\n",
    "import numpy as np\n",
    "import os\n",
    "from random import shuffle\n",
    "import re"
   ]
  },
  {
   "cell_type": "code",
   "execution_count": 2,
   "metadata": {
    "collapsed": false
   },
   "outputs": [
    {
     "data": {
      "text/html": [
       "\n",
       "    <div class=\"bk-root\">\n",
       "        <a href=\"https://bokeh.pydata.org\" target=\"_blank\" class=\"bk-logo bk-logo-small bk-logo-notebook\"></a>\n",
       "        <span id=\"d725a258-0c96-4d5d-abef-d999d4aeda72\">Loading BokehJS ...</span>\n",
       "    </div>"
      ]
     },
     "metadata": {},
     "output_type": "display_data"
    },
    {
     "data": {
      "application/javascript": [
       "\n",
       "(function(root) {\n",
       "  function now() {\n",
       "    return new Date();\n",
       "  }\n",
       "\n",
       "  var force = true;\n",
       "\n",
       "  if (typeof (root._bokeh_onload_callbacks) === \"undefined\" || force === true) {\n",
       "    root._bokeh_onload_callbacks = [];\n",
       "    root._bokeh_is_loading = undefined;\n",
       "  }\n",
       "\n",
       "  var JS_MIME_TYPE = 'application/javascript';\n",
       "  var HTML_MIME_TYPE = 'text/html';\n",
       "  var EXEC_MIME_TYPE = 'application/vnd.bokehjs_exec.v0+json';\n",
       "  var CLASS_NAME = 'output_bokeh rendered_html';\n",
       "\n",
       "  /**\n",
       "   * Render data to the DOM node\n",
       "   */\n",
       "  function render(props, node) {\n",
       "    var script = document.createElement(\"script\");\n",
       "    node.appendChild(script);\n",
       "  }\n",
       "\n",
       "  /**\n",
       "   * Handle when an output is cleared or removed\n",
       "   */\n",
       "  function handleClearOutput(event, handle) {\n",
       "    var cell = handle.cell;\n",
       "\n",
       "    var id = cell.output_area._bokeh_element_id;\n",
       "    var server_id = cell.output_area._bokeh_server_id;\n",
       "    // Clean up Bokeh references\n",
       "    if (id !== undefined) {\n",
       "      Bokeh.index[id].model.document.clear();\n",
       "      delete Bokeh.index[id];\n",
       "    }\n",
       "\n",
       "    if (server_id !== undefined) {\n",
       "      // Clean up Bokeh references\n",
       "      var cmd = \"from bokeh.io.state import curstate; print(curstate().uuid_to_server['\" + server_id + \"'].get_sessions()[0].document.roots[0]._id)\";\n",
       "      cell.notebook.kernel.execute(cmd, {\n",
       "        iopub: {\n",
       "          output: function(msg) {\n",
       "            var element_id = msg.content.text.trim();\n",
       "            Bokeh.index[element_id].model.document.clear();\n",
       "            delete Bokeh.index[element_id];\n",
       "          }\n",
       "        }\n",
       "      });\n",
       "      // Destroy server and session\n",
       "      var cmd = \"import bokeh.io.notebook as ion; ion.destroy_server('\" + server_id + \"')\";\n",
       "      cell.notebook.kernel.execute(cmd);\n",
       "    }\n",
       "  }\n",
       "\n",
       "  /**\n",
       "   * Handle when a new output is added\n",
       "   */\n",
       "  function handleAddOutput(event, handle) {\n",
       "    var output_area = handle.output_area;\n",
       "    var output = handle.output;\n",
       "\n",
       "    // limit handleAddOutput to display_data with EXEC_MIME_TYPE content only\n",
       "    if ((output.output_type != \"display_data\") || (!output.data.hasOwnProperty(EXEC_MIME_TYPE))) {\n",
       "      return\n",
       "    }\n",
       "\n",
       "    var toinsert = output_area.element.find(\".\" + CLASS_NAME.split(' ')[0]);\n",
       "\n",
       "    if (output.metadata[EXEC_MIME_TYPE][\"id\"] !== undefined) {\n",
       "      toinsert[0].firstChild.textContent = output.data[JS_MIME_TYPE];\n",
       "      // store reference to embed id on output_area\n",
       "      output_area._bokeh_element_id = output.metadata[EXEC_MIME_TYPE][\"id\"];\n",
       "    }\n",
       "    if (output.metadata[EXEC_MIME_TYPE][\"server_id\"] !== undefined) {\n",
       "      var bk_div = document.createElement(\"div\");\n",
       "      bk_div.innerHTML = output.data[HTML_MIME_TYPE];\n",
       "      var script_attrs = bk_div.children[0].attributes;\n",
       "      for (var i = 0; i < script_attrs.length; i++) {\n",
       "        toinsert[0].firstChild.setAttribute(script_attrs[i].name, script_attrs[i].value);\n",
       "      }\n",
       "      // store reference to server id on output_area\n",
       "      output_area._bokeh_server_id = output.metadata[EXEC_MIME_TYPE][\"server_id\"];\n",
       "    }\n",
       "  }\n",
       "\n",
       "  function register_renderer(events, OutputArea) {\n",
       "\n",
       "    function append_mime(data, metadata, element) {\n",
       "      // create a DOM node to render to\n",
       "      var toinsert = this.create_output_subarea(\n",
       "        metadata,\n",
       "        CLASS_NAME,\n",
       "        EXEC_MIME_TYPE\n",
       "      );\n",
       "      this.keyboard_manager.register_events(toinsert);\n",
       "      // Render to node\n",
       "      var props = {data: data, metadata: metadata[EXEC_MIME_TYPE]};\n",
       "      render(props, toinsert[0]);\n",
       "      element.append(toinsert);\n",
       "      return toinsert\n",
       "    }\n",
       "\n",
       "    /* Handle when an output is cleared or removed */\n",
       "    events.on('clear_output.CodeCell', handleClearOutput);\n",
       "    events.on('delete.Cell', handleClearOutput);\n",
       "\n",
       "    /* Handle when a new output is added */\n",
       "    events.on('output_added.OutputArea', handleAddOutput);\n",
       "\n",
       "    /**\n",
       "     * Register the mime type and append_mime function with output_area\n",
       "     */\n",
       "    OutputArea.prototype.register_mime_type(EXEC_MIME_TYPE, append_mime, {\n",
       "      /* Is output safe? */\n",
       "      safe: true,\n",
       "      /* Index of renderer in `output_area.display_order` */\n",
       "      index: 0\n",
       "    });\n",
       "  }\n",
       "\n",
       "  // register the mime type if in Jupyter Notebook environment and previously unregistered\n",
       "  if (root.Jupyter !== undefined) {\n",
       "    var events = require('base/js/events');\n",
       "    var OutputArea = require('notebook/js/outputarea').OutputArea;\n",
       "\n",
       "    if (OutputArea.prototype.mime_types().indexOf(EXEC_MIME_TYPE) == -1) {\n",
       "      register_renderer(events, OutputArea);\n",
       "    }\n",
       "  }\n",
       "\n",
       "  \n",
       "  if (typeof (root._bokeh_timeout) === \"undefined\" || force === true) {\n",
       "    root._bokeh_timeout = Date.now() + 5000;\n",
       "    root._bokeh_failed_load = false;\n",
       "  }\n",
       "\n",
       "  var NB_LOAD_WARNING = {'data': {'text/html':\n",
       "     \"<div style='background-color: #fdd'>\\n\"+\n",
       "     \"<p>\\n\"+\n",
       "     \"BokehJS does not appear to have successfully loaded. If loading BokehJS from CDN, this \\n\"+\n",
       "     \"may be due to a slow or bad network connection. Possible fixes:\\n\"+\n",
       "     \"</p>\\n\"+\n",
       "     \"<ul>\\n\"+\n",
       "     \"<li>re-rerun `output_notebook()` to attempt to load from CDN again, or</li>\\n\"+\n",
       "     \"<li>use INLINE resources instead, as so:</li>\\n\"+\n",
       "     \"</ul>\\n\"+\n",
       "     \"<code>\\n\"+\n",
       "     \"from bokeh.resources import INLINE\\n\"+\n",
       "     \"output_notebook(resources=INLINE)\\n\"+\n",
       "     \"</code>\\n\"+\n",
       "     \"</div>\"}};\n",
       "\n",
       "  function display_loaded() {\n",
       "    var el = document.getElementById(\"d725a258-0c96-4d5d-abef-d999d4aeda72\");\n",
       "    if (el != null) {\n",
       "      el.textContent = \"BokehJS is loading...\";\n",
       "    }\n",
       "    if (root.Bokeh !== undefined) {\n",
       "      if (el != null) {\n",
       "        el.textContent = \"BokehJS \" + root.Bokeh.version + \" successfully loaded.\";\n",
       "      }\n",
       "    } else if (Date.now() < root._bokeh_timeout) {\n",
       "      setTimeout(display_loaded, 100)\n",
       "    }\n",
       "  }\n",
       "\n",
       "\n",
       "  function run_callbacks() {\n",
       "    try {\n",
       "      root._bokeh_onload_callbacks.forEach(function(callback) { callback() });\n",
       "    }\n",
       "    finally {\n",
       "      delete root._bokeh_onload_callbacks\n",
       "    }\n",
       "    console.info(\"Bokeh: all callbacks have finished\");\n",
       "  }\n",
       "\n",
       "  function load_libs(js_urls, callback) {\n",
       "    root._bokeh_onload_callbacks.push(callback);\n",
       "    if (root._bokeh_is_loading > 0) {\n",
       "      console.log(\"Bokeh: BokehJS is being loaded, scheduling callback at\", now());\n",
       "      return null;\n",
       "    }\n",
       "    if (js_urls == null || js_urls.length === 0) {\n",
       "      run_callbacks();\n",
       "      return null;\n",
       "    }\n",
       "    console.log(\"Bokeh: BokehJS not loaded, scheduling load and callback at\", now());\n",
       "    root._bokeh_is_loading = js_urls.length;\n",
       "    for (var i = 0; i < js_urls.length; i++) {\n",
       "      var url = js_urls[i];\n",
       "      var s = document.createElement('script');\n",
       "      s.src = url;\n",
       "      s.async = false;\n",
       "      s.onreadystatechange = s.onload = function() {\n",
       "        root._bokeh_is_loading--;\n",
       "        if (root._bokeh_is_loading === 0) {\n",
       "          console.log(\"Bokeh: all BokehJS libraries loaded\");\n",
       "          run_callbacks()\n",
       "        }\n",
       "      };\n",
       "      s.onerror = function() {\n",
       "        console.warn(\"failed to load library \" + url);\n",
       "      };\n",
       "      console.log(\"Bokeh: injecting script tag for BokehJS library: \", url);\n",
       "      document.getElementsByTagName(\"head\")[0].appendChild(s);\n",
       "    }\n",
       "  };var element = document.getElementById(\"d725a258-0c96-4d5d-abef-d999d4aeda72\");\n",
       "  if (element == null) {\n",
       "    console.log(\"Bokeh: ERROR: autoload.js configured with elementid 'd725a258-0c96-4d5d-abef-d999d4aeda72' but no matching script tag was found. \")\n",
       "    return false;\n",
       "  }\n",
       "\n",
       "  var js_urls = [\"https://cdn.pydata.org/bokeh/release/bokeh-0.12.13.min.js\", \"https://cdn.pydata.org/bokeh/release/bokeh-widgets-0.12.13.min.js\", \"https://cdn.pydata.org/bokeh/release/bokeh-tables-0.12.13.min.js\", \"https://cdn.pydata.org/bokeh/release/bokeh-gl-0.12.13.min.js\"];\n",
       "\n",
       "  var inline_js = [\n",
       "    function(Bokeh) {\n",
       "      Bokeh.set_log_level(\"info\");\n",
       "    },\n",
       "    \n",
       "    function(Bokeh) {\n",
       "      \n",
       "    },\n",
       "    function(Bokeh) {\n",
       "      console.log(\"Bokeh: injecting CSS: https://cdn.pydata.org/bokeh/release/bokeh-0.12.13.min.css\");\n",
       "      Bokeh.embed.inject_css(\"https://cdn.pydata.org/bokeh/release/bokeh-0.12.13.min.css\");\n",
       "      console.log(\"Bokeh: injecting CSS: https://cdn.pydata.org/bokeh/release/bokeh-widgets-0.12.13.min.css\");\n",
       "      Bokeh.embed.inject_css(\"https://cdn.pydata.org/bokeh/release/bokeh-widgets-0.12.13.min.css\");\n",
       "      console.log(\"Bokeh: injecting CSS: https://cdn.pydata.org/bokeh/release/bokeh-tables-0.12.13.min.css\");\n",
       "      Bokeh.embed.inject_css(\"https://cdn.pydata.org/bokeh/release/bokeh-tables-0.12.13.min.css\");\n",
       "    }\n",
       "  ];\n",
       "\n",
       "  function run_inline_js() {\n",
       "    \n",
       "    if ((root.Bokeh !== undefined) || (force === true)) {\n",
       "      for (var i = 0; i < inline_js.length; i++) {\n",
       "        inline_js[i].call(root, root.Bokeh);\n",
       "      }if (force === true) {\n",
       "        display_loaded();\n",
       "      }} else if (Date.now() < root._bokeh_timeout) {\n",
       "      setTimeout(run_inline_js, 100);\n",
       "    } else if (!root._bokeh_failed_load) {\n",
       "      console.log(\"Bokeh: BokehJS failed to load within specified timeout.\");\n",
       "      root._bokeh_failed_load = true;\n",
       "    } else if (force !== true) {\n",
       "      var cell = $(document.getElementById(\"d725a258-0c96-4d5d-abef-d999d4aeda72\")).parents('.cell').data().cell;\n",
       "      cell.output_area.append_execute_result(NB_LOAD_WARNING)\n",
       "    }\n",
       "\n",
       "  }\n",
       "\n",
       "  if (root._bokeh_is_loading === 0) {\n",
       "    console.log(\"Bokeh: BokehJS loaded, going straight to plotting\");\n",
       "    run_inline_js();\n",
       "  } else {\n",
       "    load_libs(js_urls, function() {\n",
       "      console.log(\"Bokeh: BokehJS plotting callback run at\", now());\n",
       "      run_inline_js();\n",
       "    });\n",
       "  }\n",
       "}(window));"
      ],
      "application/vnd.bokehjs_load.v0+json": "\n(function(root) {\n  function now() {\n    return new Date();\n  }\n\n  var force = true;\n\n  if (typeof (root._bokeh_onload_callbacks) === \"undefined\" || force === true) {\n    root._bokeh_onload_callbacks = [];\n    root._bokeh_is_loading = undefined;\n  }\n\n  \n\n  \n  if (typeof (root._bokeh_timeout) === \"undefined\" || force === true) {\n    root._bokeh_timeout = Date.now() + 5000;\n    root._bokeh_failed_load = false;\n  }\n\n  var NB_LOAD_WARNING = {'data': {'text/html':\n     \"<div style='background-color: #fdd'>\\n\"+\n     \"<p>\\n\"+\n     \"BokehJS does not appear to have successfully loaded. If loading BokehJS from CDN, this \\n\"+\n     \"may be due to a slow or bad network connection. Possible fixes:\\n\"+\n     \"</p>\\n\"+\n     \"<ul>\\n\"+\n     \"<li>re-rerun `output_notebook()` to attempt to load from CDN again, or</li>\\n\"+\n     \"<li>use INLINE resources instead, as so:</li>\\n\"+\n     \"</ul>\\n\"+\n     \"<code>\\n\"+\n     \"from bokeh.resources import INLINE\\n\"+\n     \"output_notebook(resources=INLINE)\\n\"+\n     \"</code>\\n\"+\n     \"</div>\"}};\n\n  function display_loaded() {\n    var el = document.getElementById(\"d725a258-0c96-4d5d-abef-d999d4aeda72\");\n    if (el != null) {\n      el.textContent = \"BokehJS is loading...\";\n    }\n    if (root.Bokeh !== undefined) {\n      if (el != null) {\n        el.textContent = \"BokehJS \" + root.Bokeh.version + \" successfully loaded.\";\n      }\n    } else if (Date.now() < root._bokeh_timeout) {\n      setTimeout(display_loaded, 100)\n    }\n  }\n\n\n  function run_callbacks() {\n    try {\n      root._bokeh_onload_callbacks.forEach(function(callback) { callback() });\n    }\n    finally {\n      delete root._bokeh_onload_callbacks\n    }\n    console.info(\"Bokeh: all callbacks have finished\");\n  }\n\n  function load_libs(js_urls, callback) {\n    root._bokeh_onload_callbacks.push(callback);\n    if (root._bokeh_is_loading > 0) {\n      console.log(\"Bokeh: BokehJS is being loaded, scheduling callback at\", now());\n      return null;\n    }\n    if (js_urls == null || js_urls.length === 0) {\n      run_callbacks();\n      return null;\n    }\n    console.log(\"Bokeh: BokehJS not loaded, scheduling load and callback at\", now());\n    root._bokeh_is_loading = js_urls.length;\n    for (var i = 0; i < js_urls.length; i++) {\n      var url = js_urls[i];\n      var s = document.createElement('script');\n      s.src = url;\n      s.async = false;\n      s.onreadystatechange = s.onload = function() {\n        root._bokeh_is_loading--;\n        if (root._bokeh_is_loading === 0) {\n          console.log(\"Bokeh: all BokehJS libraries loaded\");\n          run_callbacks()\n        }\n      };\n      s.onerror = function() {\n        console.warn(\"failed to load library \" + url);\n      };\n      console.log(\"Bokeh: injecting script tag for BokehJS library: \", url);\n      document.getElementsByTagName(\"head\")[0].appendChild(s);\n    }\n  };var element = document.getElementById(\"d725a258-0c96-4d5d-abef-d999d4aeda72\");\n  if (element == null) {\n    console.log(\"Bokeh: ERROR: autoload.js configured with elementid 'd725a258-0c96-4d5d-abef-d999d4aeda72' but no matching script tag was found. \")\n    return false;\n  }\n\n  var js_urls = [\"https://cdn.pydata.org/bokeh/release/bokeh-0.12.13.min.js\", \"https://cdn.pydata.org/bokeh/release/bokeh-widgets-0.12.13.min.js\", \"https://cdn.pydata.org/bokeh/release/bokeh-tables-0.12.13.min.js\", \"https://cdn.pydata.org/bokeh/release/bokeh-gl-0.12.13.min.js\"];\n\n  var inline_js = [\n    function(Bokeh) {\n      Bokeh.set_log_level(\"info\");\n    },\n    \n    function(Bokeh) {\n      \n    },\n    function(Bokeh) {\n      console.log(\"Bokeh: injecting CSS: https://cdn.pydata.org/bokeh/release/bokeh-0.12.13.min.css\");\n      Bokeh.embed.inject_css(\"https://cdn.pydata.org/bokeh/release/bokeh-0.12.13.min.css\");\n      console.log(\"Bokeh: injecting CSS: https://cdn.pydata.org/bokeh/release/bokeh-widgets-0.12.13.min.css\");\n      Bokeh.embed.inject_css(\"https://cdn.pydata.org/bokeh/release/bokeh-widgets-0.12.13.min.css\");\n      console.log(\"Bokeh: injecting CSS: https://cdn.pydata.org/bokeh/release/bokeh-tables-0.12.13.min.css\");\n      Bokeh.embed.inject_css(\"https://cdn.pydata.org/bokeh/release/bokeh-tables-0.12.13.min.css\");\n    }\n  ];\n\n  function run_inline_js() {\n    \n    if ((root.Bokeh !== undefined) || (force === true)) {\n      for (var i = 0; i < inline_js.length; i++) {\n        inline_js[i].call(root, root.Bokeh);\n      }if (force === true) {\n        display_loaded();\n      }} else if (Date.now() < root._bokeh_timeout) {\n      setTimeout(run_inline_js, 100);\n    } else if (!root._bokeh_failed_load) {\n      console.log(\"Bokeh: BokehJS failed to load within specified timeout.\");\n      root._bokeh_failed_load = true;\n    } else if (force !== true) {\n      var cell = $(document.getElementById(\"d725a258-0c96-4d5d-abef-d999d4aeda72\")).parents('.cell').data().cell;\n      cell.output_area.append_execute_result(NB_LOAD_WARNING)\n    }\n\n  }\n\n  if (root._bokeh_is_loading === 0) {\n    console.log(\"Bokeh: BokehJS loaded, going straight to plotting\");\n    run_inline_js();\n  } else {\n    load_libs(js_urls, function() {\n      console.log(\"Bokeh: BokehJS plotting callback run at\", now());\n      run_inline_js();\n    });\n  }\n}(window));"
     },
     "metadata": {},
     "output_type": "display_data"
    }
   ],
   "source": [
    "from bokeh.models import ColumnDataSource, LabelSet\n",
    "from bokeh.plotting import figure, show, output_file\n",
    "from bokeh.io import output_notebook\n",
    "output_notebook()"
   ]
  },
  {
   "cell_type": "markdown",
   "metadata": {},
   "source": [
    "### Part 0: Download the TED dataset"
   ]
  },
  {
   "cell_type": "code",
   "execution_count": 7,
   "metadata": {
    "collapsed": false
   },
   "outputs": [],
   "source": [
    "import urllib2\n",
    "import zipfile\n",
    "import lxml.etree"
   ]
  },
  {
   "cell_type": "code",
   "execution_count": 11,
   "metadata": {
    "collapsed": false
   },
   "outputs": [],
   "source": [
    "# Download the dataset if it's not already there: this may take a minute as it is 75MB\n",
    "if not os.path.isfile('ted_en-20160408.zip'):\n",
    "    f = urllib2.urlopen(\"https://wit3.fbk.eu/get.php?path=XML_releases/xml/ted_en-20160408.zip&filename=ted_en-20160408.zip\")"
   ]
  },
  {
   "cell_type": "code",
   "execution_count": 12,
   "metadata": {
    "collapsed": false
   },
   "outputs": [],
   "source": [
    "data = f.read()\n",
    "with open(\"ted_en-20160408.zip\", \"wb\") as code:\n",
    "    code.write(data)\n",
    "    \n",
    "# For now, we're only interested in the subtitle text, so let's extract that from the XML:\n",
    "with zipfile.ZipFile('ted_en-20160408.zip', 'r') as z:\n",
    "    doc = lxml.etree.parse(z.open('ted_en-20160408.xml', 'r'))\n",
    "input_text = '\\n'.join(doc.xpath('//content/text()'))\n",
    "del doc"
   ]
  },
  {
   "cell_type": "markdown",
   "metadata": {},
   "source": [
    "### Part 1: Preprocessing\n",
    "\n",
    "In this part, we attempt to clean up the raw subtitles a bit, so that we get only sentences. The following substring shows examples of what we're trying to get rid of. Since it's hard to define precisely what we want to get rid of, we'll just use some simple heuristics."
   ]
  },
  {
   "cell_type": "code",
   "execution_count": 13,
   "metadata": {
    "collapsed": false,
    "scrolled": false
   },
   "outputs": [
    {
     "data": {
      "text/plain": [
       "u' baby does.\\n(Video) Hyowon Gweon: See this? (Ball squeaks) Did you see that? (Ball squeaks) Cool. See this one? (Ball squeaks) Wow.\\nLaura Schulz: Told you. (Laughs)\\n(Vide'"
      ]
     },
     "execution_count": 13,
     "metadata": {},
     "output_type": "execute_result"
    }
   ],
   "source": [
    "i = input_text.find(\"Hyowon Gweon: See this?\")\n",
    "input_text[i-20:i+150]"
   ]
  },
  {
   "cell_type": "markdown",
   "metadata": {},
   "source": [
    "Let's start by removing all parenthesized strings using a regex:"
   ]
  },
  {
   "cell_type": "code",
   "execution_count": 14,
   "metadata": {
    "collapsed": true
   },
   "outputs": [],
   "source": [
    "input_text_noparens = re.sub(r'\\([^)]*\\)', '', input_text)"
   ]
  },
  {
   "cell_type": "markdown",
   "metadata": {},
   "source": [
    "We can verify the same location in the text is now clean as follows. We won't worry about the irregular spaces since we'll later split the text into sentences and tokenize it anyway."
   ]
  },
  {
   "cell_type": "code",
   "execution_count": 15,
   "metadata": {
    "collapsed": false
   },
   "outputs": [
    {
     "data": {
      "text/plain": [
       "u\"hat the baby does.\\n Hyowon Gweon: See this?  Did you see that?  Cool. See this one?  Wow.\\nLaura Schulz: Told you. \\n HG: See this one?  Hey Clara, this one's for you. You \""
      ]
     },
     "execution_count": 15,
     "metadata": {},
     "output_type": "execute_result"
    }
   ],
   "source": [
    "i = input_text_noparens.find(\"Hyowon Gweon: See this?\")\n",
    "input_text_noparens[i-20:i+150]"
   ]
  },
  {
   "cell_type": "markdown",
   "metadata": {},
   "source": [
    "Now, let's attempt to remove speakers' names that occur at the beginning of a line, by deleting pieces of the form \"`<up to 20 characters>:`\", as shown in this example. Of course, this is an imperfect heuristic. "
   ]
  },
  {
   "cell_type": "code",
   "execution_count": 16,
   "metadata": {
    "collapsed": false
   },
   "outputs": [
    {
     "data": {
      "text/plain": [
       "[u\"Here are two reasons companies fail: they only do more of the same, or they only do what's new\",\n",
       " u'To me the real, real solution to quality growth is figuring out the balance between two activities: exploration and exploitation',\n",
       " u' Both are necessary, but it can be too much of a good thing',\n",
       " u'Consider Facit',\n",
       " u\" I'm actually old enough to remember them\"]"
      ]
     },
     "execution_count": 16,
     "metadata": {},
     "output_type": "execute_result"
    }
   ],
   "source": [
    "sentences_strings_ted = []\n",
    "for line in input_text_noparens.split('\\n'):\n",
    "    m = re.match(r'^(?:(?P<precolon>[^:]{,20}):)?(?P<postcolon>.*)$', line)\n",
    "    sentences_strings_ted.extend(sent for sent in m.groupdict()['postcolon'].split('.') if sent)\n",
    "\n",
    "# Uncomment if you need to save some RAM: these strings are about 50MB.\n",
    "# del input_text, input_text_noparens\n",
    "\n",
    "# Let's view the first few:\n",
    "sentences_strings_ted[:5]"
   ]
  },
  {
   "cell_type": "markdown",
   "metadata": {},
   "source": [
    "Now that we have sentences, we're ready to tokenize each of them into words. This tokenization is imperfect, of course. For instance, how many tokens is \"can't\", and where/how do we split it? We'll take the simplest naive approach of splitting on spaces. Before splitting, we remove non-alphanumeric characters, such as punctuation. You may want to consider the following question: why do we replace these characters with spaces rather than deleting them? Think of a case where this yields a different answer."
   ]
  },
  {
   "cell_type": "code",
   "execution_count": 17,
   "metadata": {
    "collapsed": false
   },
   "outputs": [],
   "source": [
    "sentences_ted = []\n",
    "for sent_str in sentences_strings_ted:\n",
    "    tokens = re.sub(r\"[^a-z0-9]+\", \" \", sent_str.lower()).split()\n",
    "    sentences_ted.append(tokens)"
   ]
  },
  {
   "cell_type": "markdown",
   "metadata": {},
   "source": [
    "Two sample processed sentences:"
   ]
  },
  {
   "cell_type": "code",
   "execution_count": 18,
   "metadata": {
    "collapsed": false
   },
   "outputs": [
    {
     "data": {
      "text/plain": [
       "266694"
      ]
     },
     "execution_count": 18,
     "metadata": {},
     "output_type": "execute_result"
    }
   ],
   "source": [
    "len(sentences_ted)"
   ]
  },
  {
   "cell_type": "code",
   "execution_count": 19,
   "metadata": {
    "collapsed": false
   },
   "outputs": [
    {
     "name": "stdout",
     "output_type": "stream",
     "text": [
      "[u'here', u'are', u'two', u'reasons', u'companies', u'fail', u'they', u'only', u'do', u'more', u'of', u'the', u'same', u'or', u'they', u'only', u'do', u'what', u's', u'new']\n",
      "[u'to', u'me', u'the', u'real', u'real', u'solution', u'to', u'quality', u'growth', u'is', u'figuring', u'out', u'the', u'balance', u'between', u'two', u'activities', u'exploration', u'and', u'exploitation']\n"
     ]
    }
   ],
   "source": [
    "print(sentences_ted[0])\n",
    "print(sentences_ted[1])"
   ]
  },
  {
   "cell_type": "markdown",
   "metadata": {},
   "source": [
    "### Part 2: Word Frequencies"
   ]
  },
  {
   "cell_type": "markdown",
   "metadata": {},
   "source": [
    "If you store the counts of the top 1000 words in a list called `counts_ted_top1000`, the code below will plot the histogram requested in the writeup."
   ]
  },
  {
   "cell_type": "code",
   "execution_count": 26,
   "metadata": {
    "collapsed": false
   },
   "outputs": [
    {
     "name": "stdout",
     "output_type": "stream",
     "text": [
      "[(u'the', 207748), (u'and', 149305), (u'to', 125169), (u'of', 114818), (u'a', 105399), (u'that', 95146), (u'i', 83180), (u'in', 78070), (u'it', 74738), (u'you', 70923), (u'we', 67629), (u'is', 63251), (u's', 57156), (u'this', 49241), (u'so', 37014), (u'they', 33102), (u'was', 30806), (u'for', 29713), (u'are', 27995), (u'have', 27344), (u'but', 26732), (u'what', 26519), (u'on', 25962), (u'with', 24706), (u'can', 23377), (u't', 22757), (u'about', 21246), (u'there', 21041), (u'be', 20201), (u'as', 19488), (u'at', 19216), (u'all', 19021), (u'not', 18626), (u'do', 17928), (u'my', 17908), (u'one', 17551), (u're', 17012), (u'people', 16723), (u'like', 16273), (u'if', 15868)]\n"
     ]
    }
   ],
   "source": [
    "import collections\n",
    "word_dict = collections.Counter()\n",
    "for sent in sentences_ted:\n",
    "    for word in sent:\n",
    "        word_dict[word] += 1\n",
    "sorted_counts = sorted(word_dict.items(), key=lambda x:x[1], reverse=True)[:1000]\n",
    "counts_ted_top1000 = [x[1] for x in sorted_counts]\n",
    "\n",
    "print sorted_counts[:40]"
   ]
  },
  {
   "cell_type": "markdown",
   "metadata": {},
   "source": [
    "Plot distribution of top-1000 words"
   ]
  },
  {
   "cell_type": "code",
   "execution_count": 23,
   "metadata": {
    "collapsed": false
   },
   "outputs": [
    {
     "data": {
      "text/html": [
       "\n",
       "<div class=\"bk-root\">\n",
       "    <div class=\"bk-plotdiv\" id=\"98cb3fe1-6968-4739-834b-d956f252fb86\"></div>\n",
       "</div>"
      ]
     },
     "metadata": {},
     "output_type": "display_data"
    },
    {
     "data": {
      "application/javascript": [
       "(function(root) {\n",
       "  function embed_document(root) {\n",
       "    \n",
       "  var docs_json = {\"be69e14e-1e17-4272-bce0-a4fed4d6c96b\":{\"roots\":{\"references\":[{\"attributes\":{},\"id\":\"26b4dbaa-56e4-4799-99dc-b2de6564f483\",\"type\":\"LinearScale\"},{\"attributes\":{},\"id\":\"f81ef687-87bf-49a7-900e-d5e890217d7a\",\"type\":\"PanTool\"},{\"attributes\":{\"callback\":null},\"id\":\"1ca19ae8-6774-4782-a3c2-1c1190e00b1d\",\"type\":\"DataRange1d\"},{\"attributes\":{\"callback\":null,\"column_names\":[\"top\",\"right\",\"left\"],\"data\":{\"left\":{\"__ndarray__\":\"AAAAAABAeUB7FK5H4VqjQHsUrkfhxrFAuB6F61HguUB7FK5H4fzAQJqZmZmZCcVAuB6F61EWyUDXo3A9CiPNQHsUrkfhl9BACtejcD2e0kCamZmZmaTUQClcj8L1qtZAuB6F61Gx2EBI4XoUrrfaQNejcD0KvtxAZ2ZmZmbE3kB7FK5HYWXgQMP1KFyPaOFACtejcL1r4kBSuB6F627jQJqZmZkZcuRA4XoUrkd15UApXI/CdXjmQHE9Cteje+dAuB6F69F+6EAAAAAAAILpQEjhehQuhepAkML1KFyI60DXo3A9iovsQB+F61G4ju1AZ2ZmZuaR7kCuR+F6FJXvQHsUrkchTPBAH4XrUbjN8EDD9ShcT0/xQGdmZmbm0PFACtejcH1S8kCuR+F6FNTyQFK4HoWrVfNA9ihcj0LX80CamZmZ2Vj0QD4K16Nw2vRA4XoUrgdc9UCF61G4nt31QClcj8I1X/ZAzczMzMzg9kBxPQrXY2L3QBWuR+H64/dAuB6F65Fl+EBcj8L1KOf4QAAAAADAaPlApHA9Clfq+UBI4XoU7mv6QOxRuB6F7fpAkML1KBxv+0AzMzMzs/D7QNejcD1KcvxAexSuR+Hz/EAfhetReHX9QMP1KFwP9/1AZ2ZmZqZ4/kAK16NwPfr+QK5H4XrUe/9AUrgehWv9/0B7FK5HgT8AQc3MzMxMgABBH4XrURjBAEFxPQrX4wEBQcP1KFyvQgFBFa5H4XqDAUFnZmZmRsQBQbgehesRBQJBCtejcN1FAkFcj8L1qIYCQa5H4Xp0xwJBAAAAAEAIA0FSuB6FC0kDQaRwPQrXiQNB9ihcj6LKA0FI4XoUbgsEQZqZmZk5TARB7FG4HgWNBEE+Ctej0M0EQZDC9SicDgVB4XoUrmdPBUEzMzMzM5AFQYXrUbj+0AVB16NwPcoRBkEpXI/ClVIGQXsUrkdhkwZBzczMzCzUBkEfhetR+BQHQXE9CtfDVQdBw/UoXI+WB0EVrkfhWtcHQWdmZmYmGAhBuB6F6/FYCEEK16NwvZkIQVyPwvWI2ghBrkfhelQbCUE=\",\"dtype\":\"float64\",\"shape\":[100]},\"right\":{\"__ndarray__\":\"exSuR+Fao0B7FK5H4caxQLgehetR4LlAexSuR+H8wECamZmZmQnFQLgehetRFslA16NwPQojzUB7FK5H4ZfQQArXo3A9ntJAmpmZmZmk1EApXI/C9arWQLgehetRsdhASOF6FK632kDXo3A9Cr7cQGdmZmZmxN5AexSuR2Fl4EDD9Shcj2jhQArXo3C9a+JAUrgehetu40CamZmZGXLkQOF6FK5HdeVAKVyPwnV45kBxPQrXo3vnQLgehevRfuhAAAAAAACC6UBI4XoULoXqQJDC9ShciOtA16NwPYqL7EAfhetRuI7tQGdmZmbmke5ArkfhehSV70B7FK5HIUzwQB+F61G4zfBAw/UoXE9P8UBnZmZm5tDxQArXo3B9UvJArkfhehTU8kBSuB6Fq1XzQPYoXI9C1/NAmpmZmdlY9EA+CtejcNr0QOF6FK4HXPVAhetRuJ7d9UApXI/CNV/2QM3MzMzM4PZAcT0K12Ni90AVrkfh+uP3QLgeheuRZfhAXI/C9Sjn+EAAAAAAwGj5QKRwPQpX6vlASOF6FO5r+kDsUbgehe36QJDC9Sgcb/tAMzMzM7Pw+0DXo3A9SnL8QHsUrkfh8/xAH4XrUXh1/UDD9ShcD/f9QGdmZmameP5ACtejcD36/kCuR+F61Hv/QFK4HoVr/f9AexSuR4E/AEHNzMzMTIAAQR+F61EYwQBBcT0K1+MBAUHD9Shcr0IBQRWuR+F6gwFBZ2ZmZkbEAUG4HoXrEQUCQQrXo3DdRQJBXI/C9aiGAkGuR+F6dMcCQQAAAABACANBUrgehQtJA0GkcD0K14kDQfYoXI+iygNBSOF6FG4LBEGamZmZOUwEQexRuB4FjQRBPgrXo9DNBEGQwvUonA4FQeF6FK5nTwVBMzMzMzOQBUGF61G4/tAFQdejcD3KEQZBKVyPwpVSBkF7FK5HYZMGQc3MzMws1AZBH4XrUfgUB0FxPQrXw1UHQcP1KFyPlgdBFa5H4VrXB0FnZmZmJhgIQbgehevxWAhBCtejcL2ZCEFcj8L1iNoIQa5H4XpUGwlBAAAAACBcCUE=\",\"dtype\":\"float64\",\"shape\":[100]},\"top\":{\"__ndarray__\":\"50H1zNSBOT/ypb1tgHIBPwsriUb5Uew+zuTFiLI04j78kGUPxTHhPh40R25oQNY+zuTFiLI00j4pPQWW1y7APsTbB2FDRsg+JT0FltcuwD4tPQWW1y6wPi09BZbXLrA+JT0FltcuwD4tPQWW1y6gPiU9BZbXLrA+LT0FltcuoD4AAAAAAAAAADU9BZbXLqA+AAAAAAAAAAAAAAAAAAAAAAAAAAAAAAAAAAAAAAAAAAAAAAAAAAAAADU9BZbXLqA+AAAAAAAAAAAAAAAAAAAAAAAAAAAAAAAANT0FltcuoD4AAAAAAAAAAAAAAAAAAAAANT0FltcuoD4AAAAAAAAAACU9BZbXLqA+AAAAAAAAAAAlPQWW1y6gPkU9BZbXLqA+AAAAAAAAAAAlPQWW1y6gPgAAAAAAAAAAJT0FltcuoD4AAAAAAAAAAAAAAAAAAAAAAAAAAAAAAAAAAAAAAAAAAAAAAAAAAAAAJT0FltcuoD4AAAAAAAAAAAAAAAAAAAAAAAAAAAAAAAAAAAAAAAAAACU9BZbXLqA+AAAAAAAAAAAAAAAAAAAAAAAAAAAAAAAAAAAAAAAAAAAlPQWW1y6gPgAAAAAAAAAAAAAAAAAAAAAAAAAAAAAAAAAAAAAAAAAART0FltcuoD4AAAAAAAAAAAAAAAAAAAAAAAAAAAAAAAAAAAAAAAAAAAAAAAAAAAAAAAAAAAAAAAAAAAAAAAAAAAAAAAAAAAAAAAAAAAAAAAAAAAAAAAAAACU9BZbXLqA+AAAAAAAAAAAAAAAAAAAAAAAAAAAAAAAAAAAAAAAAAAAAAAAAAAAAAAAAAAAAAAAAAAAAAAAAAAAAAAAAAAAAAAAAAAAAAAAAAAAAAAAAAAAAAAAAAAAAAAAAAAAAAAAAAAAAAAAAAAAAAAAAAAAAAAAAAAAAAAAAAAAAAAAAAAAAAAAAAAAAAAAAAAAAAAAAAAAAAAAAAAAAAAAAAAAAAAAAAAAAAAAAAAAAAAAAAAAAAAAAAAAAAAAAAAAAAAAAAAAAAAAAAAAAAAAAAAAAAAAAAAAAAAAAJT0FltcuoD4=\",\"dtype\":\"float64\",\"shape\":[100]}}},\"id\":\"27c9a419-d542-4905-a087-581547c688b3\",\"type\":\"ColumnDataSource\"},{\"attributes\":{\"active_drag\":\"auto\",\"active_inspect\":\"auto\",\"active_scroll\":\"auto\",\"active_tap\":\"auto\",\"tools\":[{\"id\":\"f81ef687-87bf-49a7-900e-d5e890217d7a\",\"type\":\"PanTool\"},{\"id\":\"9eb81106-3dd7-41f6-bfa1-dd92c8bb1e51\",\"type\":\"WheelZoomTool\"},{\"id\":\"4c075e15-01bc-489c-8913-fc46c95a2c90\",\"type\":\"ResetTool\"},{\"id\":\"658e2e5e-f7b9-4b90-8472-3d35431c83b8\",\"type\":\"SaveTool\"}]},\"id\":\"692cb672-0f77-4c99-823a-b08506b79c30\",\"type\":\"Toolbar\"},{\"attributes\":{\"dimension\":1,\"plot\":{\"id\":\"28f0311b-df7b-4069-aa96-ad09a9a5b540\",\"subtype\":\"Figure\",\"type\":\"Plot\"},\"ticker\":{\"id\":\"a303d1e4-7579-4712-a246-c15d4308c7df\",\"type\":\"BasicTicker\"}},\"id\":\"1488c497-e70c-440e-a864-8a62493e4a48\",\"type\":\"Grid\"},{\"attributes\":{},\"id\":\"2ae1fb41-67fe-4c7f-99f6-8223c82f8cd3\",\"type\":\"BasicTickFormatter\"},{\"attributes\":{},\"id\":\"a303d1e4-7579-4712-a246-c15d4308c7df\",\"type\":\"BasicTicker\"},{\"attributes\":{},\"id\":\"658e2e5e-f7b9-4b90-8472-3d35431c83b8\",\"type\":\"SaveTool\"},{\"attributes\":{\"below\":[{\"id\":\"3eaf9e54-a0e2-4b40-b9b6-e4fc077f3b2c\",\"type\":\"LinearAxis\"}],\"left\":[{\"id\":\"e4f7bc4f-6923-4c45-bd8c-71c35f5fb6ab\",\"type\":\"LinearAxis\"}],\"renderers\":[{\"id\":\"3eaf9e54-a0e2-4b40-b9b6-e4fc077f3b2c\",\"type\":\"LinearAxis\"},{\"id\":\"0fed1386-68a2-4a69-a844-6309a54d993b\",\"type\":\"Grid\"},{\"id\":\"e4f7bc4f-6923-4c45-bd8c-71c35f5fb6ab\",\"type\":\"LinearAxis\"},{\"id\":\"1488c497-e70c-440e-a864-8a62493e4a48\",\"type\":\"Grid\"},{\"id\":\"326423e2-35d9-4330-97d4-db9844fce6b0\",\"type\":\"GlyphRenderer\"}],\"title\":{\"id\":\"6d8c9de1-eccd-40be-a3fc-a33cc2faa3b8\",\"type\":\"Title\"},\"toolbar\":{\"id\":\"692cb672-0f77-4c99-823a-b08506b79c30\",\"type\":\"Toolbar\"},\"toolbar_location\":\"above\",\"x_range\":{\"id\":\"4145fe30-0c06-4646-b842-be5e028b8bf6\",\"type\":\"DataRange1d\"},\"x_scale\":{\"id\":\"26b4dbaa-56e4-4799-99dc-b2de6564f483\",\"type\":\"LinearScale\"},\"y_range\":{\"id\":\"1ca19ae8-6774-4782-a3c2-1c1190e00b1d\",\"type\":\"DataRange1d\"},\"y_scale\":{\"id\":\"d06e7eec-913e-441c-a19c-3608070fdc97\",\"type\":\"LinearScale\"}},\"id\":\"28f0311b-df7b-4069-aa96-ad09a9a5b540\",\"subtype\":\"Figure\",\"type\":\"Plot\"},{\"attributes\":{\"source\":{\"id\":\"27c9a419-d542-4905-a087-581547c688b3\",\"type\":\"ColumnDataSource\"}},\"id\":\"1b5c32c1-b75c-497b-b544-2aab73f0d195\",\"type\":\"CDSView\"},{\"attributes\":{},\"id\":\"4c075e15-01bc-489c-8913-fc46c95a2c90\",\"type\":\"ResetTool\"},{\"attributes\":{\"formatter\":{\"id\":\"2ae1fb41-67fe-4c7f-99f6-8223c82f8cd3\",\"type\":\"BasicTickFormatter\"},\"plot\":{\"id\":\"28f0311b-df7b-4069-aa96-ad09a9a5b540\",\"subtype\":\"Figure\",\"type\":\"Plot\"},\"ticker\":{\"id\":\"a303d1e4-7579-4712-a246-c15d4308c7df\",\"type\":\"BasicTicker\"}},\"id\":\"e4f7bc4f-6923-4c45-bd8c-71c35f5fb6ab\",\"type\":\"LinearAxis\"},{\"attributes\":{},\"id\":\"9b40c8c4-a25f-43d8-9ea9-3beb1d8a0a24\",\"type\":\"BasicTicker\"},{\"attributes\":{},\"id\":\"8db128a5-83ca-4c0b-82ba-ddb85fe742b1\",\"type\":\"BasicTickFormatter\"},{\"attributes\":{\"callback\":null},\"id\":\"4145fe30-0c06-4646-b842-be5e028b8bf6\",\"type\":\"DataRange1d\"},{\"attributes\":{\"plot\":null,\"text\":\"Top-1000 words distribution\"},\"id\":\"6d8c9de1-eccd-40be-a3fc-a33cc2faa3b8\",\"type\":\"Title\"},{\"attributes\":{\"plot\":{\"id\":\"28f0311b-df7b-4069-aa96-ad09a9a5b540\",\"subtype\":\"Figure\",\"type\":\"Plot\"},\"ticker\":{\"id\":\"9b40c8c4-a25f-43d8-9ea9-3beb1d8a0a24\",\"type\":\"BasicTicker\"}},\"id\":\"0fed1386-68a2-4a69-a844-6309a54d993b\",\"type\":\"Grid\"},{\"attributes\":{\"bottom\":{\"value\":0},\"fill_alpha\":{\"value\":0.1},\"fill_color\":{\"value\":\"#1f77b4\"},\"left\":{\"field\":\"left\"},\"line_alpha\":{\"value\":0.1},\"line_color\":{\"value\":\"#1f77b4\"},\"right\":{\"field\":\"right\"},\"top\":{\"field\":\"top\"}},\"id\":\"f6781b3a-f0bd-434a-bc48-f748715d2799\",\"type\":\"Quad\"},{\"attributes\":{},\"id\":\"9eb81106-3dd7-41f6-bfa1-dd92c8bb1e51\",\"type\":\"WheelZoomTool\"},{\"attributes\":{\"bottom\":{\"value\":0},\"fill_color\":{\"value\":\"#1f77b4\"},\"left\":{\"field\":\"left\"},\"line_color\":{\"value\":\"#555555\"},\"right\":{\"field\":\"right\"},\"top\":{\"field\":\"top\"}},\"id\":\"cd5f22e6-71f7-499a-9f0a-08323a377a99\",\"type\":\"Quad\"},{\"attributes\":{},\"id\":\"d06e7eec-913e-441c-a19c-3608070fdc97\",\"type\":\"LinearScale\"},{\"attributes\":{\"data_source\":{\"id\":\"27c9a419-d542-4905-a087-581547c688b3\",\"type\":\"ColumnDataSource\"},\"glyph\":{\"id\":\"cd5f22e6-71f7-499a-9f0a-08323a377a99\",\"type\":\"Quad\"},\"hover_glyph\":null,\"muted_glyph\":null,\"nonselection_glyph\":{\"id\":\"f6781b3a-f0bd-434a-bc48-f748715d2799\",\"type\":\"Quad\"},\"selection_glyph\":null,\"view\":{\"id\":\"1b5c32c1-b75c-497b-b544-2aab73f0d195\",\"type\":\"CDSView\"}},\"id\":\"326423e2-35d9-4330-97d4-db9844fce6b0\",\"type\":\"GlyphRenderer\"},{\"attributes\":{\"formatter\":{\"id\":\"8db128a5-83ca-4c0b-82ba-ddb85fe742b1\",\"type\":\"BasicTickFormatter\"},\"plot\":{\"id\":\"28f0311b-df7b-4069-aa96-ad09a9a5b540\",\"subtype\":\"Figure\",\"type\":\"Plot\"},\"ticker\":{\"id\":\"9b40c8c4-a25f-43d8-9ea9-3beb1d8a0a24\",\"type\":\"BasicTicker\"}},\"id\":\"3eaf9e54-a0e2-4b40-b9b6-e4fc077f3b2c\",\"type\":\"LinearAxis\"}],\"root_ids\":[\"28f0311b-df7b-4069-aa96-ad09a9a5b540\"]},\"title\":\"Bokeh Application\",\"version\":\"0.12.13\"}};\n",
       "  var render_items = [{\"docid\":\"be69e14e-1e17-4272-bce0-a4fed4d6c96b\",\"elementid\":\"98cb3fe1-6968-4739-834b-d956f252fb86\",\"modelid\":\"28f0311b-df7b-4069-aa96-ad09a9a5b540\"}];\n",
       "  root.Bokeh.embed.embed_items_notebook(docs_json, render_items);\n",
       "\n",
       "  }\n",
       "  if (root.Bokeh !== undefined) {\n",
       "    embed_document(root);\n",
       "  } else {\n",
       "    var attempts = 0;\n",
       "    var timer = setInterval(function(root) {\n",
       "      if (root.Bokeh !== undefined) {\n",
       "        embed_document(root);\n",
       "        clearInterval(timer);\n",
       "      }\n",
       "      attempts++;\n",
       "      if (attempts > 100) {\n",
       "        console.log(\"Bokeh: ERROR: Unable to run BokehJS code because BokehJS library is missing\")\n",
       "        clearInterval(timer);\n",
       "      }\n",
       "    }, 10, root)\n",
       "  }\n",
       "})(window);"
      ],
      "application/vnd.bokehjs_exec.v0+json": ""
     },
     "metadata": {
      "application/vnd.bokehjs_exec.v0+json": {
       "id": "28f0311b-df7b-4069-aa96-ad09a9a5b540"
      }
     },
     "output_type": "display_data"
    }
   ],
   "source": [
    "hist, edges = np.histogram(counts_ted_top1000, density=True, bins=100, normed=True)\n",
    "\n",
    "p = figure(tools=\"pan,wheel_zoom,reset,save\",\n",
    "           toolbar_location=\"above\",\n",
    "           title=\"Top-1000 words distribution\")\n",
    "p.quad(top=hist, bottom=0, left=edges[:-1], right=edges[1:], line_color=\"#555555\")\n",
    "show(p)"
   ]
  },
  {
   "cell_type": "markdown",
   "metadata": {},
   "source": [
    "### Part 3: Train Word2Vec"
   ]
  },
  {
   "cell_type": "code",
   "execution_count": 28,
   "metadata": {
    "collapsed": false
   },
   "outputs": [],
   "source": [
    "from gensim.models import Word2Vec"
   ]
  },
  {
   "cell_type": "code",
   "execution_count": 33,
   "metadata": {
    "collapsed": false
   },
   "outputs": [],
   "source": [
    "# min_count: minimum number of word counts for pruning the internal dictionary, to ignore infrequent words\n",
    "# size: size of the NN layer\n",
    "model_ted = Word2Vec(sentences_ted, min_count=10, size=100) # Train the word embedding"
   ]
  },
  {
   "cell_type": "code",
   "execution_count": 36,
   "metadata": {
    "collapsed": false
   },
   "outputs": [
    {
     "data": {
      "text/plain": [
       "14427"
      ]
     },
     "execution_count": 36,
     "metadata": {},
     "output_type": "execute_result"
    }
   ],
   "source": [
    "# size of ted vocabulary\n",
    "len(model_ted.vocab)"
   ]
  },
  {
   "cell_type": "markdown",
   "metadata": {},
   "source": [
    "### Part 4: Ted Learnt Representations"
   ]
  },
  {
   "cell_type": "markdown",
   "metadata": {},
   "source": [
    "Finding similar words: (see gensim docs for more functionality of `most_similar`)"
   ]
  },
  {
   "cell_type": "code",
   "execution_count": 48,
   "metadata": {
    "collapsed": false
   },
   "outputs": [
    {
     "data": {
      "text/plain": [
       "[(u'woman', 0.7562875747680664),\n",
       " (u'guy', 0.7457346320152283),\n",
       " (u'boy', 0.6716436743736267),\n",
       " (u'kid', 0.6608802080154419),\n",
       " (u'girl', 0.6252491474151611),\n",
       " (u'lady', 0.6212112903594971),\n",
       " (u'curator', 0.5707521438598633),\n",
       " (u'gentleman', 0.5680621862411499),\n",
       " (u'widow', 0.5636664628982544),\n",
       " (u'soldier', 0.5577048659324646)]"
      ]
     },
     "execution_count": 48,
     "metadata": {},
     "output_type": "execute_result"
    }
   ],
   "source": [
    "model_ted.most_similar(\"man\")\n",
    "# or model_ted.most_similar(positive=['man'], topn=10)"
   ]
  },
  {
   "cell_type": "code",
   "execution_count": 49,
   "metadata": {
    "collapsed": false
   },
   "outputs": [
    {
     "data": {
      "text/plain": [
       "[(u'machine', 0.6358190774917603),\n",
       " (u'graphics', 0.5718486905097961),\n",
       " (u'game', 0.5625736713409424),\n",
       " (u'video', 0.5560340881347656),\n",
       " (u'software', 0.5558165311813354),\n",
       " (u'keyboard', 0.5425848364830017),\n",
       " (u'circuit', 0.5348063707351685),\n",
       " (u'laser', 0.5312381386756897),\n",
       " (u'mechanical', 0.5312161445617676),\n",
       " (u'portable', 0.5286329388618469)]"
      ]
     },
     "execution_count": 49,
     "metadata": {},
     "output_type": "execute_result"
    }
   ],
   "source": [
    "model_ted.most_similar(\"computer\")"
   ]
  },
  {
   "cell_type": "code",
   "execution_count": 50,
   "metadata": {
    "collapsed": false
   },
   "outputs": [
    {
     "name": "stdout",
     "output_type": "stream",
     "text": [
      "Computed by gensim:  0.75628761317\n",
      "Computed by hand:  0.756288\n"
     ]
    }
   ],
   "source": [
    "# Check the cosine similarity of two words\n",
    "print \"Computed by gensim: \", model_ted.similarity('woman', 'man')\n",
    "cos_sim = np.dot(model_ted['woman'], model_ted['man']) / (np.linalg.norm(model_ted['woman']) * np.linalg.norm(model_ted['man']))\n",
    "print \"Computed by hand: \", cos_sim"
   ]
  },
  {
   "cell_type": "markdown",
   "metadata": {},
   "source": [
    "#### t-SNE visualization\n",
    "To use the t-SNE code below, first put a list of the top 1000 words (as strings) into a variable `words_top_ted`. The following code gets the corresponding vectors from the model, assuming it's called `model_ted`:"
   ]
  },
  {
   "cell_type": "code",
   "execution_count": 56,
   "metadata": {
    "collapsed": false
   },
   "outputs": [],
   "source": [
    "# This assumes words_top_ted is a list of strings, the top 1000 words\n",
    "words_top_ted = [x[0] for x in sorted_counts]\n",
    "words_top_vec_ted = np.zeros((1000, model_ted.layer1_sizse))\n",
    "for i, word in enumerate(words_top_ted):\n",
    "    words_top_vec_ted[i, :] = model_ted[word]\n",
    "# words_top_vec_ted = model_ted[words_top_ted]"
   ]
  },
  {
   "cell_type": "code",
   "execution_count": 57,
   "metadata": {
    "collapsed": false
   },
   "outputs": [],
   "source": [
    "from sklearn.manifold import TSNE\n",
    "tsne = TSNE(n_components=2, random_state=0)\n",
    "words_top_ted_tsne = tsne.fit_transform(words_top_vec_ted)"
   ]
  },
  {
   "cell_type": "code",
   "execution_count": 58,
   "metadata": {
    "collapsed": false
   },
   "outputs": [
    {
     "data": {
      "text/html": [
       "\n",
       "<div class=\"bk-root\">\n",
       "    <div class=\"bk-plotdiv\" id=\"74398fe5-ae82-4aab-9a26-5fa94f0fa15d\"></div>\n",
       "</div>"
      ]
     },
     "metadata": {},
     "output_type": "display_data"
    },
    {
     "data": {
      "application/javascript": [
       "(function(root) {\n",
       "  function embed_document(root) {\n",
       "    \n",
       "  var docs_json = {\"3db06dec-97ec-464c-b63e-8584dad14c26\":{\"roots\":{\"references\":[{\"attributes\":{\"data_source\":{\"id\":\"81d5e16b-db5b-4867-9e2b-b8101dd58ce8\",\"type\":\"ColumnDataSource\"},\"glyph\":{\"id\":\"d6e88405-afc8-4bfb-a4a2-d74130e81fa6\",\"type\":\"Circle\"},\"hover_glyph\":null,\"muted_glyph\":null,\"nonselection_glyph\":{\"id\":\"739ed723-5fb1-4474-8527-7d5f5c77b0a1\",\"type\":\"Circle\"},\"selection_glyph\":null,\"view\":{\"id\":\"77c51ddd-c232-4471-b901-fa19e02de110\",\"type\":\"CDSView\"}},\"id\":\"ca2b3c76-ebb9-4d8f-876c-88651038eb0b\",\"type\":\"GlyphRenderer\"},{\"attributes\":{\"callback\":null},\"id\":\"d672e9a0-84ba-4f10-b19b-cc8e5a36a7a0\",\"type\":\"DataRange1d\"},{\"attributes\":{\"formatter\":{\"id\":\"491d8635-eb74-452f-819d-c869841deff3\",\"type\":\"BasicTickFormatter\"},\"plot\":{\"id\":\"759c2230-a859-4cef-b002-1d5d1128cfc8\",\"subtype\":\"Figure\",\"type\":\"Plot\"},\"ticker\":{\"id\":\"05e3603e-775b-4d02-a433-cddc45d06e4f\",\"type\":\"BasicTicker\"}},\"id\":\"27c0c70d-377a-4895-a025-36fbf471d84f\",\"type\":\"LinearAxis\"},{\"attributes\":{},\"id\":\"fc65a8c1-bb41-40ed-8e81-7d9a54d71846\",\"type\":\"LinearScale\"},{\"attributes\":{\"plot\":{\"id\":\"759c2230-a859-4cef-b002-1d5d1128cfc8\",\"subtype\":\"Figure\",\"type\":\"Plot\"},\"source\":{\"id\":\"81d5e16b-db5b-4867-9e2b-b8101dd58ce8\",\"type\":\"ColumnDataSource\"},\"text\":{\"field\":\"names\"},\"text_align\":\"center\",\"text_color\":{\"value\":\"#555555\"},\"text_font_size\":{\"value\":\"8pt\"},\"x\":{\"field\":\"x1\"},\"y\":{\"field\":\"x2\"},\"y_offset\":{\"value\":6}},\"id\":\"f4bb62ac-feb0-4c29-9cd8-1e05c0e8485c\",\"type\":\"LabelSet\"},{\"attributes\":{},\"id\":\"05e3603e-775b-4d02-a433-cddc45d06e4f\",\"type\":\"BasicTicker\"},{\"attributes\":{\"plot\":null,\"text\":\"word2vec T-SNE for most common words\"},\"id\":\"dd3f2e94-8d57-482f-b70c-c9cad53bf573\",\"type\":\"Title\"},{\"attributes\":{\"formatter\":{\"id\":\"42717f4f-9a4a-4e2e-add1-4b0ef70806aa\",\"type\":\"BasicTickFormatter\"},\"plot\":{\"id\":\"759c2230-a859-4cef-b002-1d5d1128cfc8\",\"subtype\":\"Figure\",\"type\":\"Plot\"},\"ticker\":{\"id\":\"1b8e8e2a-be97-4bf4-8859-b860757984f4\",\"type\":\"BasicTicker\"}},\"id\":\"a8fa3ef7-d1db-4e20-9d67-ae84e0b67330\",\"type\":\"LinearAxis\"},{\"attributes\":{\"plot\":{\"id\":\"759c2230-a859-4cef-b002-1d5d1128cfc8\",\"subtype\":\"Figure\",\"type\":\"Plot\"},\"ticker\":{\"id\":\"1b8e8e2a-be97-4bf4-8859-b860757984f4\",\"type\":\"BasicTicker\"}},\"id\":\"2e43be6f-f938-4c28-92aa-2886c986e8c9\",\"type\":\"Grid\"},{\"attributes\":{\"fill_alpha\":{\"value\":0.1},\"fill_color\":{\"value\":\"#1f77b4\"},\"line_alpha\":{\"value\":0.1},\"line_color\":{\"value\":\"#1f77b4\"},\"size\":{\"units\":\"screen\",\"value\":8},\"x\":{\"field\":\"x1\"},\"y\":{\"field\":\"x2\"}},\"id\":\"739ed723-5fb1-4474-8527-7d5f5c77b0a1\",\"type\":\"Circle\"},{\"attributes\":{\"source\":{\"id\":\"81d5e16b-db5b-4867-9e2b-b8101dd58ce8\",\"type\":\"ColumnDataSource\"}},\"id\":\"77c51ddd-c232-4471-b901-fa19e02de110\",\"type\":\"CDSView\"},{\"attributes\":{},\"id\":\"fee8b7cb-918c-4484-ad40-3d13ccf154b2\",\"type\":\"WheelZoomTool\"},{\"attributes\":{},\"id\":\"491d8635-eb74-452f-819d-c869841deff3\",\"type\":\"BasicTickFormatter\"},{\"attributes\":{},\"id\":\"ed799a8f-fe6b-4051-8d95-34cb994a61be\",\"type\":\"SaveTool\"},{\"attributes\":{},\"id\":\"b66eb4c4-b244-48b8-99d5-a76842092095\",\"type\":\"ResetTool\"},{\"attributes\":{},\"id\":\"42717f4f-9a4a-4e2e-add1-4b0ef70806aa\",\"type\":\"BasicTickFormatter\"},{\"attributes\":{\"active_drag\":\"auto\",\"active_inspect\":\"auto\",\"active_scroll\":\"auto\",\"active_tap\":\"auto\",\"tools\":[{\"id\":\"b52fb42b-d5b9-492d-8bbd-6bd6b151f412\",\"type\":\"PanTool\"},{\"id\":\"fee8b7cb-918c-4484-ad40-3d13ccf154b2\",\"type\":\"WheelZoomTool\"},{\"id\":\"b66eb4c4-b244-48b8-99d5-a76842092095\",\"type\":\"ResetTool\"},{\"id\":\"ed799a8f-fe6b-4051-8d95-34cb994a61be\",\"type\":\"SaveTool\"}]},\"id\":\"23f5761a-4f31-40db-bb2f-45ce522ded65\",\"type\":\"Toolbar\"},{\"attributes\":{},\"id\":\"b52fb42b-d5b9-492d-8bbd-6bd6b151f412\",\"type\":\"PanTool\"},{\"attributes\":{\"fill_color\":{\"value\":\"#1f77b4\"},\"line_color\":{\"value\":\"#1f77b4\"},\"size\":{\"units\":\"screen\",\"value\":8},\"x\":{\"field\":\"x1\"},\"y\":{\"field\":\"x2\"}},\"id\":\"d6e88405-afc8-4bfb-a4a2-d74130e81fa6\",\"type\":\"Circle\"},{\"attributes\":{},\"id\":\"aaf89a32-af64-480b-b6e7-c9870e5cf2a9\",\"type\":\"LinearScale\"},{\"attributes\":{\"callback\":null,\"column_names\":[\"x2\",\"x1\",\"names\"],\"data\":{\"names\":[\"the\",\"and\",\"to\",\"of\",\"a\",\"that\",\"i\",\"in\",\"it\",\"you\",\"we\",\"is\",\"s\",\"this\",\"so\",\"they\",\"was\",\"for\",\"are\",\"have\",\"but\",\"what\",\"on\",\"with\",\"can\",\"t\",\"about\",\"there\",\"be\",\"as\",\"at\",\"all\",\"not\",\"do\",\"my\",\"one\",\"re\",\"people\",\"like\",\"if\",\"from\",\"now\",\"our\",\"he\",\"an\",\"just\",\"these\",\"or\",\"when\",\"because\",\"very\",\"me\",\"out\",\"by\",\"them\",\"how\",\"know\",\"up\",\"going\",\"had\",\"more\",\"think\",\"who\",\"were\",\"see\",\"your\",\"their\",\"which\",\"would\",\"here\",\"really\",\"get\",\"ve\",\"then\",\"m\",\"world\",\"us\",\"time\",\"some\",\"has\",\"don\",\"actually\",\"into\",\"way\",\"where\",\"will\",\"years\",\"things\",\"other\",\"no\",\"could\",\"go\",\"well\",\"want\",\"been\",\"make\",\"right\",\"she\",\"said\",\"something\",\"those\",\"first\",\"two\",\"than\",\"much\",\"also\",\"look\",\"new\",\"thing\",\"little\",\"got\",\"back\",\"over\",\"most\",\"say\",\"even\",\"his\",\"life\",\"only\",\"work\",\"many\",\"take\",\"need\",\"did\",\"lot\",\"kind\",\"why\",\"good\",\"around\",\"every\",\"different\",\"down\",\"ll\",\"let\",\"her\",\"through\",\"same\",\"being\",\"come\",\"d\",\"day\",\"year\",\"three\",\"use\",\"doing\",\"put\",\"called\",\"any\",\"today\",\"percent\",\"made\",\"after\",\"thank\",\"tell\",\"great\",\"human\",\"find\",\"didn\",\"fact\",\"talk\",\"change\",\"started\",\"another\",\"idea\",\"big\",\"last\",\"own\",\"before\",\"its\",\"never\",\"should\",\"better\",\"give\",\"thought\",\"went\",\"might\",\"important\",\"000\",\"again\",\"together\",\"able\",\"still\",\"problem\",\"off\",\"next\",\"part\",\"course\",\"system\",\"him\",\"does\",\"each\",\"start\",\"show\",\"long\",\"ago\",\"story\",\"came\",\"brain\",\"few\",\"bit\",\"between\",\"used\",\"place\",\"technology\",\"women\",\"too\",\"old\",\"mean\",\"data\",\"water\",\"looking\",\"question\",\"maybe\",\"found\",\"love\",\"doesn\",\"end\",\"example\",\"10\",\"done\",\"point\",\"four\",\"real\",\"wanted\",\"ever\",\"school\",\"understand\",\"sort\",\"live\",\"call\",\"whole\",\"always\",\"children\",\"trying\",\"may\",\"person\",\"away\",\"believe\",\"feel\",\"try\",\"million\",\"working\",\"help\",\"everything\",\"five\",\"country\",\"thinking\",\"second\",\"using\",\"information\",\"money\",\"means\",\"took\",\"power\",\"times\",\"high\",\"space\",\"number\",\"kids\",\"home\",\"become\",\"create\",\"small\",\"design\",\"making\",\"best\",\"left\",\"getting\",\"future\",\"enough\",\"man\",\"quite\",\"city\",\"without\",\"sense\",\"happened\",\"comes\",\"social\",\"probably\",\"light\",\"less\",\"talking\",\"energy\",\"am\",\"building\",\"science\",\"food\",\"body\",\"told\",\"interesting\",\"half\",\"ask\",\"pretty\",\"play\",\"hard\",\"anything\",\"lives\",\"countries\",\"coming\",\"such\",\"family\",\"stuff\",\"dollars\",\"moment\",\"earth\",\"20\",\"imagine\",\"across\",\"side\",\"saw\",\"while\",\"happen\",\"okay\",\"once\",\"build\",\"having\",\"men\",\"later\",\"experience\",\"makes\",\"asked\",\"living\",\"seen\",\"says\",\"room\",\"hand\",\"simple\",\"health\",\"ways\",\"else\",\"case\",\"yet\",\"almost\",\"young\",\"days\",\"nothing\",\"bad\",\"care\",\"happens\",\"goes\",\"move\",\"states\",\"reason\",\"computer\",\"open\",\"learn\",\"africa\",\"process\",\"inside\",\"someone\",\"six\",\"far\",\"project\",\"mind\",\"remember\",\"single\",\"picture\",\"both\",\"whether\",\"problems\",\"saying\",\"community\",\"basically\",\"already\",\"within\",\"looked\",\"myself\",\"billion\",\"possible\",\"often\",\"business\",\"planet\",\"global\",\"top\",\"everybody\",\"sure\",\"public\",\"set\",\"wrong\",\"car\",\"book\",\"keep\",\"yes\",\"answer\",\"oh\",\"sometimes\",\"hope\",\"true\",\"history\",\"war\",\"guy\",\"child\",\"instead\",\"months\",\"ideas\",\"looks\",\"matter\",\"government\",\"amazing\",\"united\",\"since\",\"bring\",\"age\",\"cells\",\"job\",\"heard\",\"until\",\"face\",\"wasn\",\"100\",\"read\",\"control\",\"isn\",\"research\",\"30\",\"words\",\"u\",\"group\",\"under\",\"self\",\"somebody\",\"built\",\"state\",\"woman\",\"turn\",\"beautiful\",\"friends\",\"line\",\"knew\",\"couple\",\"order\",\"form\",\"yeah\",\"internet\",\"middle\",\"music\",\"piece\",\"nature\",\"head\",\"though\",\"stop\",\"everyone\",\"50\",\"places\",\"video\",\"learned\",\"language\",\"run\",\"night\",\"decided\",\"study\",\"word\",\"cancer\",\"works\",\"taking\",\"became\",\"exactly\",\"species\",\"completely\",\"society\",\"education\",\"against\",\"stories\",\"large\",\"share\",\"level\",\"heart\",\"america\",\"model\",\"questions\",\"gets\",\"mother\",\"god\",\"company\",\"turns\",\"ourselves\",\"happening\",\"hear\",\"art\",\"themselves\",\"must\",\"itself\",\"rather\",\"kinds\",\"students\",\"name\",\"hours\",\"disease\",\"front\",\"house\",\"huge\",\"couldn\",\"created\",\"universe\",\"ok\",\"animals\",\"american\",\"environment\",\"worked\",\"minutes\",\"ones\",\"black\",\"perhaps\",\"1\",\"past\",\"third\",\"along\",\"finally\",\"others\",\"sound\",\"early\",\"game\",\"thousands\",\"century\",\"based\",\"least\",\"per\",\"ted\",\"lots\",\"figure\",\"free\",\"guys\",\"particular\",\"happy\",\"news\",\"learning\",\"entire\",\"won\",\"gave\",\"machine\",\"india\",\"during\",\"systems\",\"air\",\"difference\",\"outside\",\"natural\",\"taken\",\"seven\",\"given\",\"changed\",\"leave\",\"cell\",\"15\",\"close\",\"behind\",\"cities\",\"full\",\"scale\",\"china\",\"difficult\",\"takes\",\"companies\",\"yourself\",\"area\",\"reality\",\"seeing\",\"easy\",\"turned\",\"cost\",\"eyes\",\"team\",\"moving\",\"population\",\"culture\",\"york\",\"hands\",\"whatever\",\"began\",\"needs\",\"terms\",\"image\",\"needed\",\"simply\",\"beginning\",\"father\",\"local\",\"realized\",\"media\",\"parents\",\"death\",\"walk\",\"view\",\"white\",\"market\",\"parts\",\"ocean\",\"economic\",\"eight\",\"powerful\",\"week\",\"known\",\"size\",\"felt\",\"humans\",\"certain\",\"spend\",\"longer\",\"phone\",\"wonderful\",\"cannot\",\"grow\",\"common\",\"center\",\"tried\",\"fish\",\"land\",\"oil\",\"deal\",\"interested\",\"political\",\"red\",\"gone\",\"amount\",\"weeks\",\"spent\",\"opportunity\",\"paper\",\"lost\",\"national\",\"quickly\",\"blue\",\"step\",\"poor\",\"green\",\"buy\",\"wouldn\",\"growth\",\"either\",\"patients\",\"sitting\",\"ability\",\"changes\",\"write\",\"challenge\",\"south\",\"low\",\"friend\",\"growing\",\"field\",\"2\",\"shows\",\"born\",\"rest\",\"climate\",\"40\",\"test\",\"street\",\"surface\",\"incredible\",\"average\",\"morning\",\"physical\",\"value\",\"program\",\"scientists\",\"pay\",\"feeling\",\"met\",\"hundreds\",\"girl\",\"behavior\",\"economy\",\"dna\",\"complex\",\"access\",\"risk\",\"animal\",\"structure\",\"feet\",\"attention\",\"areas\",\"anyone\",\"deep\",\"watch\",\"short\",\"absolutely\",\"brought\",\"speak\",\"bottom\",\"die\",\"numbers\",\"audience\",\"stage\",\"realize\",\"images\",\"law\",\"wrote\",\"understanding\",\"books\",\"knowledge\",\"literally\",\"movement\",\"ground\",\"giving\",\"eat\",\"force\",\"seems\",\"alone\",\"telling\",\"starting\",\"hold\",\"nice\",\"sea\",\"forward\",\"developed\",\"individual\",\"kid\",\"millions\",\"support\",\"miles\",\"tools\",\"running\",\"online\",\"result\",\"act\",\"medical\",\"technologies\",\"north\",\"development\",\"lab\",\"blood\",\"fear\",\"nobody\",\"map\",\"personal\",\"voice\",\"issue\",\"key\",\"material\",\"recently\",\"12\",\"theory\",\"cut\",\"cars\",\"sun\",\"fast\",\"changing\",\"playing\",\"clear\",\"especially\",\"girls\",\"soon\",\"patient\",\"choice\",\"fly\",\"creating\",\"discovered\",\"talked\",\"relationship\",\"europe\",\"normal\",\"gives\",\"generation\",\"dark\",\"type\",\"showed\",\"asking\",\"industry\",\"seem\",\"chance\",\"rate\",\"hour\",\"designed\",\"fun\",\"color\",\"issues\",\"university\",\"several\",\"computers\",\"innovation\",\"class\",\"tiny\",\"english\",\"save\",\"allow\",\"focus\",\"developing\",\"digital\",\"solve\",\"film\",\"network\",\"special\",\"wall\",\"situation\",\"baby\",\"solution\",\"box\",\"reasons\",\"knows\",\"meet\",\"stand\",\"dead\",\"begin\",\"impact\",\"haven\",\"anybody\",\"term\",\"pictures\",\"beyond\",\"please\",\"produce\",\"ice\",\"shape\",\"non\",\"resources\",\"robot\",\"cool\",\"stay\",\"likely\",\"groups\",\"rights\",\"available\",\"truth\",\"major\",\"obviously\",\"evidence\",\"experiment\",\"cause\",\"writing\",\"drug\",\"modern\",\"incredibly\",\"becomes\",\"bigger\",\"guess\",\"aren\",\"nine\",\"product\",\"drugs\",\"lived\",\"involved\",\"perfect\",\"month\",\"google\",\"similar\",\"putting\",\"effect\",\"pick\",\"eye\",\"message\",\"web\",\"quality\",\"violence\",\"security\",\"evolution\",\"office\",\"basic\",\"indeed\",\"general\",\"solar\",\"towards\",\"drive\",\"present\",\"worth\",\"listen\",\"send\",\"revolution\",\"hundred\",\"explain\",\"died\",\"certainly\",\"ready\",\"teach\",\"journey\",\"25\",\"walking\",\"hit\",\"led\",\"international\",\"approach\",\"200\",\"games\",\"scientific\",\"60\",\"crazy\",\"potential\",\"chinese\",\"communities\",\"device\",\"camera\",\"source\",\"carbon\",\"sex\",\"rules\",\"sounds\",\"boy\",\"reach\",\"starts\",\"west\",\"examples\",\"3\",\"success\",\"software\",\"measure\",\"particularly\",\"totally\",\"suddenly\",\"action\",\"higher\",\"college\",\"code\",\"eventually\",\"democracy\",\"minute\",\"among\",\"sit\",\"largest\",\"showing\",\"hospital\",\"period\",\"notice\",\"mass\",\"develop\",\"dream\",\"onto\",\"add\",\"plants\",\"break\",\"memory\",\"zero\",\"everywhere\",\"11\",\"favorite\",\"speed\",\"moved\",\"schools\",\"response\",\"wants\",\"individuals\",\"table\",\"extremely\",\"movie\",\"wait\",\"anyway\",\"follow\",\"medicine\",\"trust\",\"biggest\",\"plant\",\"watching\",\"organization\",\"creative\",\"road\",\"worse\",\"choose\",\"results\",\"500\",\"lead\",\"exciting\",\"grew\",\"materials\",\"jobs\",\"positive\",\"plan\",\"poverty\",\"east\",\"safe\",\"strong\",\"fall\",\"essentially\",\"door\",\"object\",\"vision\",\"son\",\"continue\",\"further\",\"happiness\",\"student\",\"doctor\",\"role\",\"including\",\"named\",\"objects\",\"extraordinary\",\"standing\",\"skin\",\"leaders\",\"usually\",\"projects\",\"african\",\"conversation\",\"models\",\"allowed\",\"supposed\",\"interest\",\"faster\",\"police\",\"families\",\"fight\",\"tree\",\"connected\",\"cases\",\"screen\",\"5\",\"somewhere\",\"goal\",\"shown\",\"buildings\",\"finding\"],\"x1\":{\"__ndarray__\":\"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\",\"dtype\":\"float32\",\"shape\":[1000]},\"x2\":{\"__ndarray__\":\"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\",\"dtype\":\"float32\",\"shape\":[1000]}}},\"id\":\"81d5e16b-db5b-4867-9e2b-b8101dd58ce8\",\"type\":\"ColumnDataSource\"},{\"attributes\":{\"dimension\":1,\"plot\":{\"id\":\"759c2230-a859-4cef-b002-1d5d1128cfc8\",\"subtype\":\"Figure\",\"type\":\"Plot\"},\"ticker\":{\"id\":\"05e3603e-775b-4d02-a433-cddc45d06e4f\",\"type\":\"BasicTicker\"}},\"id\":\"d370b8a9-a048-4fec-a746-8b86edcd6be2\",\"type\":\"Grid\"},{\"attributes\":{\"callback\":null},\"id\":\"4f5f0177-dcb0-40c7-9986-9d0bc59e5b5a\",\"type\":\"DataRange1d\"},{\"attributes\":{},\"id\":\"1b8e8e2a-be97-4bf4-8859-b860757984f4\",\"type\":\"BasicTicker\"},{\"attributes\":{\"below\":[{\"id\":\"a8fa3ef7-d1db-4e20-9d67-ae84e0b67330\",\"type\":\"LinearAxis\"}],\"left\":[{\"id\":\"27c0c70d-377a-4895-a025-36fbf471d84f\",\"type\":\"LinearAxis\"}],\"renderers\":[{\"id\":\"a8fa3ef7-d1db-4e20-9d67-ae84e0b67330\",\"type\":\"LinearAxis\"},{\"id\":\"2e43be6f-f938-4c28-92aa-2886c986e8c9\",\"type\":\"Grid\"},{\"id\":\"27c0c70d-377a-4895-a025-36fbf471d84f\",\"type\":\"LinearAxis\"},{\"id\":\"d370b8a9-a048-4fec-a746-8b86edcd6be2\",\"type\":\"Grid\"},{\"id\":\"ca2b3c76-ebb9-4d8f-876c-88651038eb0b\",\"type\":\"GlyphRenderer\"},{\"id\":\"f4bb62ac-feb0-4c29-9cd8-1e05c0e8485c\",\"type\":\"LabelSet\"}],\"title\":{\"id\":\"dd3f2e94-8d57-482f-b70c-c9cad53bf573\",\"type\":\"Title\"},\"toolbar\":{\"id\":\"23f5761a-4f31-40db-bb2f-45ce522ded65\",\"type\":\"Toolbar\"},\"toolbar_location\":\"above\",\"x_range\":{\"id\":\"4f5f0177-dcb0-40c7-9986-9d0bc59e5b5a\",\"type\":\"DataRange1d\"},\"x_scale\":{\"id\":\"aaf89a32-af64-480b-b6e7-c9870e5cf2a9\",\"type\":\"LinearScale\"},\"y_range\":{\"id\":\"d672e9a0-84ba-4f10-b19b-cc8e5a36a7a0\",\"type\":\"DataRange1d\"},\"y_scale\":{\"id\":\"fc65a8c1-bb41-40ed-8e81-7d9a54d71846\",\"type\":\"LinearScale\"}},\"id\":\"759c2230-a859-4cef-b002-1d5d1128cfc8\",\"subtype\":\"Figure\",\"type\":\"Plot\"}],\"root_ids\":[\"759c2230-a859-4cef-b002-1d5d1128cfc8\"]},\"title\":\"Bokeh Application\",\"version\":\"0.12.13\"}};\n",
       "  var render_items = [{\"docid\":\"3db06dec-97ec-464c-b63e-8584dad14c26\",\"elementid\":\"74398fe5-ae82-4aab-9a26-5fa94f0fa15d\",\"modelid\":\"759c2230-a859-4cef-b002-1d5d1128cfc8\"}];\n",
       "  root.Bokeh.embed.embed_items_notebook(docs_json, render_items);\n",
       "\n",
       "  }\n",
       "  if (root.Bokeh !== undefined) {\n",
       "    embed_document(root);\n",
       "  } else {\n",
       "    var attempts = 0;\n",
       "    var timer = setInterval(function(root) {\n",
       "      if (root.Bokeh !== undefined) {\n",
       "        embed_document(root);\n",
       "        clearInterval(timer);\n",
       "      }\n",
       "      attempts++;\n",
       "      if (attempts > 100) {\n",
       "        console.log(\"Bokeh: ERROR: Unable to run BokehJS code because BokehJS library is missing\")\n",
       "        clearInterval(timer);\n",
       "      }\n",
       "    }, 10, root)\n",
       "  }\n",
       "})(window);"
      ],
      "application/vnd.bokehjs_exec.v0+json": ""
     },
     "metadata": {
      "application/vnd.bokehjs_exec.v0+json": {
       "id": "759c2230-a859-4cef-b002-1d5d1128cfc8"
      }
     },
     "output_type": "display_data"
    }
   ],
   "source": [
    "p = figure(tools=\"pan,wheel_zoom,reset,save\",\n",
    "           toolbar_location=\"above\",\n",
    "           title=\"word2vec T-SNE for most common words\")\n",
    "\n",
    "source = ColumnDataSource(data=dict(x1=words_top_ted_tsne[:,0],\n",
    "                                    x2=words_top_ted_tsne[:,1],\n",
    "                                    names=words_top_ted))\n",
    "\n",
    "p.scatter(x=\"x1\", y=\"x2\", size=8, source=source)\n",
    "\n",
    "labels = LabelSet(x=\"x1\", y=\"x2\", text=\"names\", y_offset=6,\n",
    "                  text_font_size=\"8pt\", text_color=\"#555555\",\n",
    "                  source=source, text_align='center')\n",
    "p.add_layout(labels)\n",
    "\n",
    "show(p)"
   ]
  },
  {
   "cell_type": "markdown",
   "metadata": {},
   "source": [
    "### Part 5: Wiki Learnt Representations"
   ]
  },
  {
   "cell_type": "markdown",
   "metadata": {},
   "source": [
    "Download dataset"
   ]
  },
  {
   "cell_type": "code",
   "execution_count": 59,
   "metadata": {
    "collapsed": true
   },
   "outputs": [],
   "source": [
    "if not os.path.isfile('wikitext-103-raw-v1.zip'):\n",
    "    f = urllib2.urlopen(\"https://s3.amazonaws.com/research.metamind.io/wikitext/wikitext-103-raw-v1.zip\")\n",
    "data = f.read()\n",
    "with open(\"wikitext-103-raw-v1.zip\", \"wb\") as code:\n",
    "    code.write(data)"
   ]
  },
  {
   "cell_type": "code",
   "execution_count": 86,
   "metadata": {
    "collapsed": false
   },
   "outputs": [],
   "source": [
    "with zipfile.ZipFile('wikitext-103-raw-v1.zip', 'r') as z:\n",
    "    input_text = unicode(z.open('wikitext-103-raw/wiki.train.raw', 'r').read(), 'utf-8') # Thanks Robert Bastian"
   ]
  },
  {
   "cell_type": "markdown",
   "metadata": {},
   "source": [
    "Preprocess sentences (note that it's important to remove small sentences for performance)"
   ]
  },
  {
   "cell_type": "code",
   "execution_count": 83,
   "metadata": {
    "collapsed": false
   },
   "outputs": [],
   "source": [
    "sentences_wiki = []\n",
    "# remove short sentences\n",
    "for line in input_text.split('\\n'):\n",
    "    s = [x for x in line.split('.') if x and len(x.split()) >= 5]\n",
    "    sentences_wiki.extend(s)\n",
    "    \n",
    "for s_i in range(len(sentences_wiki)):\n",
    "    sentences_wiki[s_i] = re.sub(\"[^a-z]\", \" \", sentences_wiki[s_i].lower())\n",
    "    sentences_wiki[s_i] = re.sub(r'\\([^)]*\\)', '', sentences_wiki[s_i]).split(' ').strip()\n",
    "    sentences_wiki[s_i] = [w for w in sentences_wiki if w != ''] # remove empty string\n",
    "del input_text"
   ]
  },
  {
   "cell_type": "code",
   "execution_count": 84,
   "metadata": {
    "collapsed": false
   },
   "outputs": [
    {
     "name": "stdout",
     "output_type": "stream",
     "text": [
      "4267112\n",
      "853422\n"
     ]
    }
   ],
   "source": [
    "# sample 1/5 of the data\n",
    "shuffle(sentences_wiki)\n",
    "print(len(sentences_wiki))\n",
    "sentences_wiki = sentences_wiki[:int(len(sentences_wiki)/5)]\n",
    "print(len(sentences_wiki))"
   ]
  },
  {
   "cell_type": "markdown",
   "metadata": {},
   "source": [
    "Now, repeat all the same steps that you performed above. You should be able to reuse essentially all the code."
   ]
  },
  {
   "cell_type": "code",
   "execution_count": 88,
   "metadata": {
    "collapsed": false
   },
   "outputs": [],
   "source": [
    "# get the top 1000 frequent word\n",
    "wiki_word_counter = collections.Counter()\n",
    "for sent in sentences_wiki:\n",
    "    for word in sent:\n",
    "        wiki_word_counter[word] += 1\n",
    "sorted_words = sorted(wiki_word_counter.items(), key=lambda x: x[1], reverse=True)\n",
    "words_top_wiki = [w[0] for w in sorted_words][:1000] \n",
    "\n",
    "model_wiki = Word2Vec(sentences_wiki, min_count=10)"
   ]
  },
  {
   "cell_type": "markdown",
   "metadata": {},
   "source": [
    "#### t-SNE visualization"
   ]
  },
  {
   "cell_type": "code",
   "execution_count": 96,
   "metadata": {
    "collapsed": false
   },
   "outputs": [
    {
     "name": "stdout",
     "output_type": "stream",
     "text": [
      "48678\n",
      "100\n",
      "100\n"
     ]
    }
   ],
   "source": [
    "print len(model_wiki.vocab)\n",
    "print model_wiki.layer1_size"
   ]
  },
  {
   "cell_type": "code",
   "execution_count": 97,
   "metadata": {
    "collapsed": false
   },
   "outputs": [],
   "source": [
    "# This assumes words_top_wiki is a list of strings, the top 1000 words\n",
    "words_top_vec_wiki = np.zeros((1000, model_wiki.layer1_size))\n",
    "for i, word in enumerate(words_top_wiki):\n",
    "    words_top_vec_wiki[i, :] = model_wiki[word]\n",
    "\n",
    "tsne = TSNE(n_components=2, random_state=0)\n",
    "words_top_wiki_tsne = tsne.fit_transform(words_top_vec_wiki)"
   ]
  },
  {
   "cell_type": "code",
   "execution_count": null,
   "metadata": {
    "collapsed": false
   },
   "outputs": [],
   "source": [
    "p = figure(tools=\"pan,wheel_zoom,reset,save\",\n",
    "           toolbar_location=\"above\",\n",
    "           title=\"word2vec T-SNE for most common words\")\n",
    "\n",
    "source = ColumnDataSource(data=dict(x1=words_top_wiki_tsne[:,0],\n",
    "                                    x2=words_top_wiki_tsne[:,1],\n",
    "                                    names=words_top_wiki))\n",
    "\n",
    "p.scatter(x=\"x1\", y=\"x2\", size=8, source=source)\n",
    "\n",
    "labels = LabelSet(x=\"x1\", y=\"x2\", text=\"names\", y_offset=6,\n",
    "                  text_font_size=\"8pt\", text_color=\"#555555\",\n",
    "                  source=source, text_align='center')\n",
    "p.add_layout(labels)\n",
    "\n",
    "show(p)"
   ]
  }
 ],
 "metadata": {
  "anaconda-cloud": {},
  "kernelspec": {
   "display_name": "Python 2",
   "language": "python",
   "name": "python2"
  },
  "language_info": {
   "codemirror_mode": {
    "name": "ipython",
    "version": 2
   },
   "file_extension": ".py",
   "mimetype": "text/x-python",
   "name": "python",
   "nbconvert_exporter": "python",
   "pygments_lexer": "ipython2",
   "version": "2.7.3"
  }
 },
 "nbformat": 4,
 "nbformat_minor": 0
}
